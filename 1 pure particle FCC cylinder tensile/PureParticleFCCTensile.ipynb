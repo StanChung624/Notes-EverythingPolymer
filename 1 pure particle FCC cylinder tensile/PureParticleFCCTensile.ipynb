{
 "cells": [
  {
   "cell_type": "markdown",
   "metadata": {},
   "source": [
    "# Pure Particle FCC Tensile Notes\n",
    "\n",
    "Required source files:\n",
    "* `modeling.in` : for creating a cylinder model.\n",
    "* `deform.in` : runs a deformation as tensile test while recording desire variables.\n"
   ]
  },
  {
   "cell_type": "markdown",
   "metadata": {},
   "source": [
    "## Create a Cylinder model"
   ]
  },
  {
   "cell_type": "code",
   "execution_count": 1,
   "metadata": {},
   "outputs": [
    {
     "name": "stdout",
     "output_type": "stream",
     "text": [
      "LAMMPS (2 Aug 2023)\n",
      "Lattice spacing in x,y,z = 0.0002 0.0002 0.0002\n",
      "Created orthogonal box = (-0.0006 -0.0006 -0.001) to (0.0006 0.0006 0.001)\n",
      "  1 by 1 by 1 MPI processor grid\n",
      "Created 1090 atoms\n",
      "  using lattice units in orthogonal box = (-0.0006 -0.0006 -0.001) to (0.0006 0.0006 0.001)\n",
      "  create_atoms CPU = 0.000 seconds\n",
      "System init for write_data ...\n",
      "WARNING: Communication cutoff is 0.0. No ghost atoms will be generated. Atoms may get lost. (src/comm_brick.cpp:210)\n",
      "Total wall time: 0:00:00\n"
     ]
    }
   ],
   "source": [
    "import subprocess\n",
    "return_code = subprocess.call(['lmp_serial', '-in', 'create_cylinder.lmps'])"
   ]
  },
  {
   "cell_type": "markdown",
   "metadata": {},
   "source": [
    "## Read Cylinder model and simulate tensile strength test"
   ]
  },
  {
   "cell_type": "code",
   "execution_count": 32,
   "metadata": {},
   "outputs": [
    {
     "name": "stdout",
     "output_type": "stream",
     "text": [
      "LAMMPS (2 Aug 2023)\n",
      "OMP_NUM_THREADS environment is not set. Defaulting to 1 thread. (src/comm.cpp:98)\n",
      "  using 1 OpenMP thread(s) per MPI task\n",
      "set 4 OpenMP thread(s) per MPI task\n",
      "using multi-threaded neighbor list subroutines\n",
      "Lattice spacing in x,y,z = 0.0002 0.0002 0.0002\n",
      "Reading data file ...\n",
      "  orthogonal box = (-0.0006 -0.0006 -0.001) to (0.0006 0.0006 0.001)\n",
      "  1 by 2 by 2 MPI processor grid\n",
      "  reading atoms ...\n",
      "  1090 atoms\n",
      "  reading velocities ...\n",
      "  1090 velocities\n",
      "  read_data CPU = 0.003 seconds\n",
      "ERROR: Illegal compute reduce argument: c_stressatom[*] (src/compute_reduce.cpp:179)\n",
      "Last command: compute         sta all reduce sum c_stressatom[*]       \t\t\t\t# Sum of stresses over all atoms\n"
     ]
    }
   ],
   "source": [
    "import os\n",
    "if os.path.exists('./data/ss.txt'):\n",
    "    os.remove('./data/ss.txt')\n",
    "    \n",
    "return_code = subprocess.call(['mpirun', '-np', '4', 'lmp_mpi', '-pk', 'omp', '4', '-in', 'deform.lmps'])"
   ]
  },
  {
   "cell_type": "markdown",
   "metadata": {},
   "source": [
    "## Post-Process data"
   ]
  },
  {
   "cell_type": "code",
   "execution_count": 28,
   "metadata": {},
   "outputs": [
    {
     "data": {
      "text/html": [
       "<div>\n",
       "<style scoped>\n",
       "    .dataframe tbody tr th:only-of-type {\n",
       "        vertical-align: middle;\n",
       "    }\n",
       "\n",
       "    .dataframe tbody tr th {\n",
       "        vertical-align: top;\n",
       "    }\n",
       "\n",
       "    .dataframe thead th {\n",
       "        text-align: right;\n",
       "    }\n",
       "</style>\n",
       "<table border=\"1\" class=\"dataframe\">\n",
       "  <thead>\n",
       "    <tr style=\"text-align: right;\">\n",
       "      <th></th>\n",
       "      <th>strain</th>\n",
       "      <th>stress33</th>\n",
       "      <th>slope</th>\n",
       "    </tr>\n",
       "  </thead>\n",
       "  <tbody>\n",
       "    <tr>\n",
       "      <th>0</th>\n",
       "      <td>0.0000</td>\n",
       "      <td>-4.545352e-04</td>\n",
       "      <td>0.000000e+00</td>\n",
       "    </tr>\n",
       "    <tr>\n",
       "      <th>1</th>\n",
       "      <td>0.0001</td>\n",
       "      <td>4.068166e+06</td>\n",
       "      <td>4.068166e+10</td>\n",
       "    </tr>\n",
       "    <tr>\n",
       "      <th>2</th>\n",
       "      <td>0.0002</td>\n",
       "      <td>7.890252e+06</td>\n",
       "      <td>3.822086e+10</td>\n",
       "    </tr>\n",
       "    <tr>\n",
       "      <th>3</th>\n",
       "      <td>0.0003</td>\n",
       "      <td>1.130110e+07</td>\n",
       "      <td>3.410845e+10</td>\n",
       "    </tr>\n",
       "    <tr>\n",
       "      <th>4</th>\n",
       "      <td>0.0004</td>\n",
       "      <td>1.433919e+07</td>\n",
       "      <td>3.038096e+10</td>\n",
       "    </tr>\n",
       "    <tr>\n",
       "      <th>...</th>\n",
       "      <td>...</td>\n",
       "      <td>...</td>\n",
       "      <td>...</td>\n",
       "    </tr>\n",
       "    <tr>\n",
       "      <th>1496</th>\n",
       "      <td>0.1496</td>\n",
       "      <td>3.012125e+09</td>\n",
       "      <td>9.573371e+09</td>\n",
       "    </tr>\n",
       "    <tr>\n",
       "      <th>1497</th>\n",
       "      <td>0.1497</td>\n",
       "      <td>3.013123e+09</td>\n",
       "      <td>9.980230e+09</td>\n",
       "    </tr>\n",
       "    <tr>\n",
       "      <th>1498</th>\n",
       "      <td>0.1498</td>\n",
       "      <td>3.014161e+09</td>\n",
       "      <td>1.038051e+10</td>\n",
       "    </tr>\n",
       "    <tr>\n",
       "      <th>1499</th>\n",
       "      <td>0.1499</td>\n",
       "      <td>3.015235e+09</td>\n",
       "      <td>1.073668e+10</td>\n",
       "    </tr>\n",
       "    <tr>\n",
       "      <th>1500</th>\n",
       "      <td>0.1500</td>\n",
       "      <td>3.016338e+09</td>\n",
       "      <td>1.102953e+10</td>\n",
       "    </tr>\n",
       "  </tbody>\n",
       "</table>\n",
       "<p>1501 rows × 3 columns</p>\n",
       "</div>"
      ],
      "text/plain": [
       "      strain      stress33         slope\n",
       "0     0.0000 -4.545352e-04  0.000000e+00\n",
       "1     0.0001  4.068166e+06  4.068166e+10\n",
       "2     0.0002  7.890252e+06  3.822086e+10\n",
       "3     0.0003  1.130110e+07  3.410845e+10\n",
       "4     0.0004  1.433919e+07  3.038096e+10\n",
       "...      ...           ...           ...\n",
       "1496  0.1496  3.012125e+09  9.573371e+09\n",
       "1497  0.1497  3.013123e+09  9.980230e+09\n",
       "1498  0.1498  3.014161e+09  1.038051e+10\n",
       "1499  0.1499  3.015235e+09  1.073668e+10\n",
       "1500  0.1500  3.016338e+09  1.102953e+10\n",
       "\n",
       "[1501 rows x 3 columns]"
      ]
     },
     "execution_count": 28,
     "metadata": {},
     "output_type": "execute_result"
    }
   ],
   "source": [
    "import pandas as pd\n",
    "from pandas import DataFrame as df\n",
    "\n",
    "# load data\n",
    "ss_directory = \"./data/ss.txt\"\n",
    "with open(ss_directory, 'r') as file:\n",
    "    data = pd.read_csv(file, sep=' ')[['strain', 'stress33']]\n",
    "\n",
    "slopes = [0,]\n",
    "data['stress33'][1]\n",
    "for i in range(1, len(data.index)):\n",
    "    slopes.append((data['stress33'][i] - data['stress33'][i-1])/(data['strain'][i] - data['strain'][i-1]))\n",
    "    \n",
    "\n",
    "data['slope'] = slopes\n",
    "data"
   ]
  },
  {
   "cell_type": "code",
   "execution_count": 30,
   "metadata": {},
   "outputs": [
    {
     "data": {
      "text/plain": [
       "Text(0, 0.5, '$\\\\sigma$ (Pa)')"
      ]
     },
     "execution_count": 30,
     "metadata": {},
     "output_type": "execute_result"
    },
    {
     "data": {
      "image/png": "[encoded data removed]",
      "text/plain": [
       "<Figure size 640x480 with 1 Axes>"
      ]
     },
     "metadata": {},
     "output_type": "display_data"
    }
   ],
   "source": [
    "# plot\n",
    "plt = data.plot(x='strain', y=['stress33'])\n",
    "plt.set_xlabel('$\\epsilon$')\n",
    "plt.set_ylabel('$\\sigma$ (Pa)')"
   ]
  },
  {
   "cell_type": "markdown",
   "metadata": {},
   "source": [
    "## Getting linear part slope for Young's modulus"
   ]
  },
  {
   "cell_type": "markdown",
   "metadata": {},
   "source": []
  }
 ],
 "metadata": {
  "kernelspec": {
   "display_name": "my-lammps-env",
   "language": "python",
   "name": "python3"
  },
  "language_info": {
   "codemirror_mode": {
    "name": "ipython",
    "version": 3
   },
   "file_extension": ".py",
   "mimetype": "text/x-python",
   "name": "python",
   "nbconvert_exporter": "python",
   "pygments_lexer": "ipython3",
   "version": "3.11.6"
  }
 },
 "nbformat": 4,
 "nbformat_minor": 2
}
